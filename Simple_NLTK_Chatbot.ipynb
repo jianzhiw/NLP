{
  "nbformat": 4,
  "nbformat_minor": 0,
  "metadata": {
    "colab": {
      "name": "Simple NLTK Chatbot.ipynb",
      "version": "0.3.2",
      "provenance": [],
      "collapsed_sections": [],
      "toc_visible": true,
      "include_colab_link": true
    },
    "kernelspec": {
      "name": "python3",
      "display_name": "Python 3"
    },
    "accelerator": "GPU"
  },
  "cells": [
    {
      "cell_type": "markdown",
      "metadata": {
        "id": "view-in-github",
        "colab_type": "text"
      },
      "source": [
        "<a href=\"https://colab.research.google.com/github/jianzhiw/NLP/blob/master/Simple_NLTK_Chatbot.ipynb\" target=\"_parent\"><img src=\"https://colab.research.google.com/assets/colab-badge.svg\" alt=\"Open In Colab\"/></a>"
      ]
    },
    {
      "cell_type": "markdown",
      "metadata": {
        "id": "YlEvdEUn3OnG",
        "colab_type": "text"
      },
      "source": [
        "# Text Pre- Processing with NLTK #\n",
        "\n",
        "\n",
        "\n",
        "*  Converting the entire text into uppercase or lowercase, so that the algorithm does not treat the same words in different cases as different\n",
        "* Tokenization: Tokenization is just the term used to describe the process of converting the normal text strings into a list of tokens i.e words that we actually want. Sentence tokenizer can be used to find the list of sentences and Word tokenizer can be used to find the list of words in strings.\n",
        "* Removing Noise i.e everything that isn’t in a standard number or letter.\n",
        "* Removing Stop words. Sometimes, some extremely common words which would appear to be of little value in helping select documents matching a user need are excluded from the vocabulary entirely. These words are called stop words\n",
        "* Stemming: Stemming is the process of reducing inflected (or sometimes derived) words to their stem, base or root form — generally a written word form. Example if we were to stem the following words: “Stems”, “Stemming”, “Stemmed”, “and Stemtization”, the result would be a single word “stem”.\n",
        "* Lemmatization: A slight variant of stemming is lemmatization. The major difference between these is, that, stemming can often create non-existent words, whereas lemmas are actual words. So, your root stem, meaning the word you end up with, is not something you can just look up in a dictionary, but you can look up a lemma. Examples of Lemmatization are that “run” is a base form for words like “running” or “ran” or that the word “better” and “good” are in the same lemma so they are considered the same."
      ]
    },
    {
      "cell_type": "markdown",
      "metadata": {
        "id": "4q9Si2dn1bc8",
        "colab_type": "text"
      },
      "source": [
        "# Bag of Words #\n",
        "After the initial preprocessing phase, we need to transform text into a meaningful vector (or array) of numbers. The bag-of-words is a representation of text that describes the occurrence of words within a document. It involves two things:\n",
        "* A vocabulary of known words.\n",
        "* A measure of the presence of known words.\n",
        "<br></br>\n",
        "\n",
        "Why is it is called a “bag” of words? That is because any information about the order or structure of words in the document is discarded and the model is only concerned with whether the known words occur in the document, not where they occur in the document.\n",
        "<br></br>\n",
        "\n",
        "The intuition behind the Bag of Words is that documents are similar if they have similar content. Also, we can learn something about the meaning of the document from its content alone.\n",
        "<br></br>\n",
        "\n",
        "For example, if our dictionary contains the words {Learning, is, the, not, great}, and we want to vectorize the text “Learning is great”, we would have the following vector: (1, 1, 0, 0, 1)."
      ]
    },
    {
      "cell_type": "markdown",
      "metadata": {
        "id": "W6MmHH511ye_",
        "colab_type": "text"
      },
      "source": [
        "# TF-IDF Approach #\n",
        "A problem with the Bag of Words approach is that highly frequent words start to dominate in the document (e.g. larger score), but may not contain as much “informational content”. Also, it will give more weight to longer documents than shorter documents.\n",
        "<br></br>\n",
        "\n",
        "One approach is to rescale the frequency of words by how often they appear in all documents so that the scores for frequent words like “the” that are also frequent across all documents are penalized. This approach to scoring is called Term Frequency-Inverse Document Frequency, or TF-IDF for short, where:\n",
        "<br></br>\n",
        "* Term Frequency: is a scoring of the frequency of the word in the current document.\n",
        "<br></br>\n",
        "> TF = (Number of times term t appears in a document)/(Number of terms in the document)\n",
        "* Inverse Document Frequency: is a scoring of how rare the word is across documents.\n",
        "> IDF = 1+log(N/n), where, N is the number of documents and n is the number of documents a term t has appeared in.\n",
        "<br></br>\n",
        "\n",
        "Tf-idf weight is a weight often used in information retrieval and text mining. This weight is a statistical measure used to evaluate how important a word is to a document in a collection or corpus"
      ]
    },
    {
      "cell_type": "markdown",
      "metadata": {
        "id": "D6CuuZJw2PYs",
        "colab_type": "text"
      },
      "source": [
        "## Example ##\n",
        "Consider a document containing 100 words wherein the word ‘phone’ appears 5 times.\n",
        "<br></br>\n",
        "The term frequency (i.e., tf) for phone is then (5 / 100) = 0.05. Now, assume we have 10 million documents and the word phone appears in one thousand of these. Then, the inverse document frequency (i.e., IDF) is calculated as \n",
        "<br></br>\n",
        "$ log(10,000,000 / 1,000) = 4. $\n",
        "<br></br>\n",
        "Thus, the Tf-IDF weight is the product of these quantities: 0.05 * 4 = 0.20.\n",
        "Tf-IDF can be implemented in scikit learn as:\n",
        "> from sklearn.feature_extraction.text import TfidfVectorizer"
      ]
    },
    {
      "cell_type": "markdown",
      "metadata": {
        "id": "F9fy-tWE2m3C",
        "colab_type": "text"
      },
      "source": [
        "# Cosine Similarity #\n",
        "TF-IDF is a transformation applied to texts to get two real-valued vectors in vector space. We can then obtain the [Cosine similarity](https://janav.wordpress.com/2013/10/27/tf-idf-and-cosine-similarity/?source=post_page---------------------------) of any pair of vectors by taking their dot product and dividing that by the product of their norms. \n",
        "That yields the cosine of the angle between the vectors. Cosine similarity is a measure of similarity between two non-zero vectors. Using this formula we can find out the similarity between any two documents d1 and d2.\n",
        "> Cosine Similarity (d1, d2) =  Dot product(d1, d2) / ||d1|| * ||d2||\n",
        "\n",
        "where d1,d2 are two non zero vectors."
      ]
    },
    {
      "cell_type": "code",
      "metadata": {
        "id": "kmua1GER3AzC",
        "colab_type": "code",
        "colab": {}
      },
      "source": [
        "import nltk\n",
        "import numpy as np\n",
        "import random\n",
        "import string # to process standard python strings\n",
        "import warnings\n",
        "warnings.filterwarnings(\"ignore\")\n"
      ],
      "execution_count": 0,
      "outputs": []
    },
    {
      "cell_type": "markdown",
      "metadata": {
        "id": "BdmFQ4P9446f",
        "colab_type": "text"
      },
      "source": [
        "# Retrieving the dataset #\n",
        "\n",
        "We are going to use [BeautifulSoup](https://www.crummy.com/software/BeautifulSoup/bs4/doc/) API to retrieve the text from Wikipedia."
      ]
    },
    {
      "cell_type": "code",
      "metadata": {
        "id": "UTtSSDAu7G33",
        "colab_type": "code",
        "outputId": "c4635d4b-17b5-492d-8014-1f5406e43c83",
        "colab": {
          "base_uri": "https://localhost:8080/",
          "height": 34
        }
      },
      "source": [
        "from bs4 import BeautifulSoup\n",
        "import requests\n",
        "import re\n",
        "\n",
        "respond = requests.get(\"https://en.wikipedia.org/wiki/Chatbot\")\n",
        "\n",
        "soup = BeautifulSoup(respond.text)\n",
        "l = soup.find_all('p')\n",
        "text = \"\"\n",
        "#f = open(\"chatbot.txt\", mode=\"a\")\n",
        "for item in l:\n",
        "  #f.write(item.text)\n",
        "  text += item.text\n",
        "\n",
        "text = re.sub(r'\\[\\d*\\]', \"\", text)\n",
        "f = open(\"chatbot.txt\", mode=\"w\")\n",
        "f.write(text)"
      ],
      "execution_count": 0,
      "outputs": [
        {
          "output_type": "execute_result",
          "data": {
            "text/plain": [
              "15173"
            ]
          },
          "metadata": {
            "tags": []
          },
          "execution_count": 27
        }
      ]
    },
    {
      "cell_type": "markdown",
      "metadata": {
        "id": "QmI-Ronp3E8L",
        "colab_type": "text"
      },
      "source": [
        "# Reading in the data #\n",
        "We will read in the corpus.txt file and convert the entire corpus into a list of sentences and a list of words for further pre-processing."
      ]
    },
    {
      "cell_type": "code",
      "metadata": {
        "id": "wJ70d1YAlfFz",
        "colab_type": "code",
        "outputId": "c21e84f9-908f-4238-9095-7e800fc25aec",
        "colab": {
          "base_uri": "https://localhost:8080/",
          "height": 85
        }
      },
      "source": [
        "f=open('chatbot.txt','r',errors = 'ignore')\n",
        "raw=f.read()\n",
        "raw=raw.lower()# converts to lowercase\n",
        "nltk.download('punkt') # first-time use only\n",
        "nltk.download('wordnet') # first-time use only\n",
        "sent_tokens = nltk.sent_tokenize(raw)# converts to list of sentences \n",
        "word_tokens = nltk.word_tokenize(raw)# converts to list of words"
      ],
      "execution_count": 0,
      "outputs": [
        {
          "output_type": "stream",
          "text": [
            "[nltk_data] Downloading package punkt to /root/nltk_data...\n",
            "[nltk_data]   Package punkt is already up-to-date!\n",
            "[nltk_data] Downloading package wordnet to /root/nltk_data...\n",
            "[nltk_data]   Package wordnet is already up-to-date!\n"
          ],
          "name": "stdout"
        }
      ]
    },
    {
      "cell_type": "code",
      "metadata": {
        "id": "ObDCjwqPlrhC",
        "colab_type": "code",
        "outputId": "d45d1d98-5f25-4220-9742-685c6744b0e9",
        "colab": {
          "base_uri": "https://localhost:8080/",
          "height": 71
        }
      },
      "source": [
        "sent_tokens[:2]"
      ],
      "execution_count": 0,
      "outputs": [
        {
          "output_type": "execute_result",
          "data": {
            "text/plain": [
              "['a chatbot is a computer program which conducts a conversation via auditory or textual methods.',\n",
              " 'such programs are often designed to convincingly simulate how a human would behave as a conversational partner, although as of 2019, they are far short of being able to pass the turing test.']"
            ]
          },
          "metadata": {
            "tags": []
          },
          "execution_count": 29
        }
      ]
    },
    {
      "cell_type": "code",
      "metadata": {
        "id": "wdoiTkcEl-mb",
        "colab_type": "code",
        "outputId": "774ce66c-028b-4d07-9237-cc0a981ae1f8",
        "colab": {
          "base_uri": "https://localhost:8080/",
          "height": 34
        }
      },
      "source": [
        "word_tokens[:2]"
      ],
      "execution_count": 0,
      "outputs": [
        {
          "output_type": "execute_result",
          "data": {
            "text/plain": [
              "['a', 'chatbot']"
            ]
          },
          "metadata": {
            "tags": []
          },
          "execution_count": 30
        }
      ]
    },
    {
      "cell_type": "markdown",
      "metadata": {
        "id": "GBtVqRp9mCsh",
        "colab_type": "text"
      },
      "source": [
        "# Pre-processing the raw text #\n",
        "We shall now define a function called LemTokens which will take as input the tokens and return normalized tokens."
      ]
    },
    {
      "cell_type": "code",
      "metadata": {
        "id": "LKksL6y0mEYj",
        "colab_type": "code",
        "colab": {}
      },
      "source": [
        "lemmer = nltk.stem.WordNetLemmatizer()\n",
        "#WordNet is a semantically-oriented dictionary of English included in NLTK.\n",
        "def LemTokens(tokens):\n",
        "    return [lemmer.lemmatize(token) for token in tokens]\n",
        "remove_punct_dict = dict((ord(punct), None) for punct in string.punctuation)\n",
        "def LemNormalize(text):\n",
        "    return LemTokens(nltk.word_tokenize(text.lower().translate(remove_punct_dict)))"
      ],
      "execution_count": 0,
      "outputs": []
    },
    {
      "cell_type": "markdown",
      "metadata": {
        "id": "4WCohAILmI36",
        "colab_type": "text"
      },
      "source": [
        "# Keyword matching #\n",
        "Next, we shall define a function for a greeting by the bot i.e if a user’s input is a greeting, the bot shall return a greeting response.ELIZA uses a simple keyword matching for greetings. We will utilize the same concept here."
      ]
    },
    {
      "cell_type": "code",
      "metadata": {
        "id": "T09gbGa_mKka",
        "colab_type": "code",
        "colab": {}
      },
      "source": [
        "GREETING_INPUTS = (\"hello\", \"hi\", \"greetings\", \"sup\", \"what's up\",\"hey\",)\n",
        "GREETING_RESPONSES = [\"hi\", \"hey\", \"*nods*\", \"hi there\", \"hello\", \"I am glad! You are talking to me\"]\n",
        "def greeting(sentence):\n",
        " \n",
        "    for word in sentence.split():\n",
        "        if word.lower() in GREETING_INPUTS:\n",
        "            return random.choice(GREETING_RESPONSES)"
      ],
      "execution_count": 0,
      "outputs": []
    },
    {
      "cell_type": "markdown",
      "metadata": {
        "id": "CBFYflhfmNli",
        "colab_type": "text"
      },
      "source": [
        "# Generating Response #\n",
        "To generate a response from our bot for input questions, the concept of document similarity will be used. So we begin by importing necessary modules."
      ]
    },
    {
      "cell_type": "code",
      "metadata": {
        "id": "BxVfF68imbLS",
        "colab_type": "code",
        "colab": {}
      },
      "source": [
        "from sklearn.feature_extraction.text import TfidfVectorizer\n",
        "from sklearn.metrics.pairwise import cosine_similarity"
      ],
      "execution_count": 0,
      "outputs": []
    },
    {
      "cell_type": "markdown",
      "metadata": {
        "id": "-Fphjkn8mkuy",
        "colab_type": "text"
      },
      "source": [
        "We define a function response which searches the user’s utterance for one or more known keywords and returns one of several possible responses. If it doesn’t find the input matching any of the keywords, it returns a response:” I am sorry! I don’t understand you”"
      ]
    },
    {
      "cell_type": "code",
      "metadata": {
        "id": "FJz-efw7mh2a",
        "colab_type": "code",
        "colab": {}
      },
      "source": [
        "def response(user_response):\n",
        "    robo_response=''\n",
        "    sent_tokens.append(user_response)\n",
        "    TfidfVec = TfidfVectorizer(tokenizer=LemNormalize, stop_words='english')\n",
        "    tfidf = TfidfVec.fit_transform(sent_tokens)\n",
        "    vals = cosine_similarity(tfidf[-1], tfidf)\n",
        "    idx=vals.argsort()[0][-2]\n",
        "    flat = vals.flatten()\n",
        "    flat.sort()\n",
        "    req_tfidf = flat[-2]\n",
        "    if(req_tfidf==0):\n",
        "        robo_response=robo_response+\"I am sorry! I don't understand you\"\n",
        "        return robo_response\n",
        "    else:\n",
        "        robo_response = robo_response+sent_tokens[idx]\n",
        "        return robo_response"
      ],
      "execution_count": 0,
      "outputs": []
    },
    {
      "cell_type": "markdown",
      "metadata": {
        "id": "d9MQ2F1rmmCi",
        "colab_type": "text"
      },
      "source": [
        "Finally, we will feed the lines that we want our bot to say while starting and ending a conversation depending upon user’s input."
      ]
    },
    {
      "cell_type": "code",
      "metadata": {
        "id": "_qKkB_S8nQ6K",
        "colab_type": "code",
        "outputId": "c65b6d8b-0783-4038-b8ae-ad3c90426253",
        "colab": {
          "base_uri": "https://localhost:8080/",
          "height": 190
        }
      },
      "source": [
        "flag=True\n",
        "print(\"ROBO: My name is Robo. I will answer your queries about Chatbots. If you want to exit, type Bye!\")\n",
        "while(flag==True):\n",
        "    user_response = input()\n",
        "    user_response=user_response.lower()\n",
        "    if(user_response!='bye'):\n",
        "        if(user_response=='thanks' or user_response=='thank you' ):\n",
        "            flag=False\n",
        "            print(\"ROBO: You are welcome..\")\n",
        "        else:\n",
        "            if(greeting(user_response)!=None):\n",
        "                print(\"ROBO: \"+greeting(user_response))\n",
        "            else:\n",
        "                print(\"ROBO: \",end=\"\")\n",
        "                print(response(user_response))\n",
        "                sent_tokens.remove(user_response)\n",
        "    else:\n",
        "        flag=False\n",
        "        print(\"ROBO: Bye! take care..\")"
      ],
      "execution_count": 0,
      "outputs": [
        {
          "output_type": "stream",
          "text": [
            "ROBO: My name is Robo. I will answer your queries about Chatbots. If you want to exit, type Bye!\n",
            "hi\n",
            "ROBO: hi there\n",
            "what is chatterbot\n",
            "ROBO: the term \"chatterbot\" was originally coined by michael mauldin (creator of the first verbot, julia) in 1994 to describe these conversational programs.\n",
            "who launch sobot\n",
            "ROBO: the france's third largest bank by total assets  société générale launched their chatbot called sobot in march 2018. while the 80% of users of the sobot express their satisfaction after having tested it, il will never remplace the expertise provided by a human advisor according to sg deputy director bertrand cozzarolo.\n",
            "bye\n",
            "ROBO: Bye! take care..\n"
          ],
          "name": "stdout"
        }
      ]
    },
    {
      "cell_type": "markdown",
      "metadata": {
        "id": "S5qI-xFS8hBl",
        "colab_type": "text"
      },
      "source": [
        "# Reference #\n",
        "[Source](https://medium.com/analytics-vidhya/building-a-simple-chatbot-in-python-using-nltk-7c8c8215ac6e)\n",
        "\n",
        "Prepared By: [Wong Jian Zhi](https://github.com/jianzhiw)"
      ]
    }
  ]
}